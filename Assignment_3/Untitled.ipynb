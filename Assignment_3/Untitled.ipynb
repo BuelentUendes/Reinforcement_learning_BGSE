{
 "cells": [
  {
   "cell_type": "markdown",
   "metadata": {},
   "source": [
    "# Dynamic Programming Assignment\n",
    "## by Buelent Uendes"
   ]
  },
  {
   "cell_type": "code",
   "execution_count": 2,
   "metadata": {},
   "outputs": [],
   "source": [
    "import numpy as np\n",
    "import pandas as pd"
   ]
  },
  {
   "cell_type": "markdown",
   "metadata": {},
   "source": [
    "# Part 1: Policy evaluation"
   ]
  },
  {
   "cell_type": "code",
   "execution_count": 6,
   "metadata": {},
   "outputs": [
    {
     "data": {
      "text/plain": [
       "-0.25"
      ]
     },
     "execution_count": 6,
     "metadata": {},
     "output_type": "execute_result"
    }
   ],
   "source": [
    "-(2/4)**2"
   ]
  },
  {
   "cell_type": "code",
   "execution_count": 16,
   "metadata": {},
   "outputs": [],
   "source": [
    "#State space \n",
    "#Set the length of the que\n",
    "N = 100\n",
    "\n",
    "n = np.arange(0,N)\n",
    "q_low = 0.5\n",
    "q_high = 0.6\n",
    "\n",
    "#discount factor\n",
    "\n",
    "gamma = 0.9\n",
    "\n",
    "\n",
    "#Action space\n",
    "\n",
    "a_low = 0\n",
    "a_high = 1\n",
    "\n",
    "#Reward function\n",
    "\n",
    "def reward_function(x, a):\n",
    "    if a == 0:\n",
    "        return -(x/N)**2 \n",
    "    else:\n",
    "        return -(x/N)**2 - 0.01\n",
    "    \n",
    "#Transition function\n",
    "\n",
    "def transition_function(N, x, I, S):\n",
    "    return min(N-1, max(x+I-S,0)) \n"
   ]
  },
  {
   "cell_type": "code",
   "execution_count": null,
   "metadata": {},
   "outputs": [],
   "source": []
  }
 ],
 "metadata": {
  "kernelspec": {
   "display_name": "Python 3",
   "language": "python",
   "name": "python3"
  },
  "language_info": {
   "codemirror_mode": {
    "name": "ipython",
    "version": 3
   },
   "file_extension": ".py",
   "mimetype": "text/x-python",
   "name": "python",
   "nbconvert_exporter": "python",
   "pygments_lexer": "ipython3",
   "version": "3.8.3"
  }
 },
 "nbformat": 4,
 "nbformat_minor": 4
}
